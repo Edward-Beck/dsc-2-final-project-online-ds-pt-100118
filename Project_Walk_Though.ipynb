{
 "cells": [
  {
   "cell_type": "markdown",
   "metadata": {},
   "source": [
    "![](mi.png)"
   ]
  },
  {
   "cell_type": "markdown",
   "metadata": {},
   "source": [
    "The following statistical analysis is based upon the proposal that business exist solely\n",
    "to generate revenues and gain profits for their shareholders. Hence all hypothesis testing \n",
    "was constructed to model this behavior. The Northwind data set is comprised of disjointed\n",
    "tables that are joined together through identical data in specified tables. The OrderDetail\n",
    "table contains the components used to generate revenues, being the unit price of a product \n",
    "and the quantity of ordered at any one particular instance. Other important aspects of the\n",
    "business were complied together depicting the employees, customers, products, regions, \n",
    "shipping and suppliers as well as tables that better connected more complicated \n",
    "relationships between these entities. "
   ]
  },
  {
   "cell_type": "markdown",
   "metadata": {},
   "source": [
    "![](omar.png)"
   ]
  },
  {
   "cell_type": "markdown",
   "metadata": {},
   "source": [
    "A business can only be as profitable as the products it sells hence the first arena of interested centered upon the what was generating the most revenues. To analyze this metric the Category table was concatenated with the Products table as well as the OrderDetail table. For the easy of understanding and conceptualization products were combined into similar categories as the number of unique products in correlation to the number of transactions would have been difficult to distill. Utilizing the Panda library functionality separate data frames of product categories was composited composing of all the transactions that had occurred. The new data frames were then re-sampled individually and equally to compare the average of the sampling to average sampling of the entire population of transactions. The two categories that stood out were Seafoods and Condiments being higher than the distribution of the entire set of products. "
   ]
  },
  {
   "cell_type": "markdown",
   "metadata": {},
   "source": [
    "![](RevProducts.png)"
   ]
  },
  {
   "cell_type": "markdown",
   "metadata": {},
   "source": [
    "The relationship between a discounted price and amount of revenue was investigated to determine if the revenues would rise with a discounted price. A null hypothesis of flat rate priced revenues were greater than discounted priced revenues was set with an alternative hypothesis that discounted price revenues were greater than revenues at a flat rate price.  The raw data had 800 and 1300 entries for transactions at the discounted and flat rates respectively. "
   ]
  },
  {
   "cell_type": "markdown",
   "metadata": {},
   "source": [
    "![](blue_heth.png)"
   ]
  },
  {
   "cell_type": "markdown",
   "metadata": {},
   "source": [
    "![](Heather.png)"
   ]
  },
  {
   "cell_type": "markdown",
   "metadata": {},
   "source": [
    "A histogram plot put the discounted rate revenues (DRR) higher than the flat rate as the revenues grew in size before adjusting for the more than a third greater size of transaction flat rate revenues (FRR). When the raw data was then used to simulate future transactions with equal DRR and FRR the results were ever more evident that revenues generated the discounted price out performed the flat rate while including the loss of revenues by a lower price. The simulation was created by sampling 50 instances of both FRR and DRR then respectively taking the average of the sample for ten thousand iterations. "
   ]
  },
  {
   "cell_type": "markdown",
   "metadata": {},
   "source": [
    "![](Discount_Flat_Rate.png)"
   ]
  },
  {
   "cell_type": "markdown",
   "metadata": {},
   "source": [
    "To optimize revenues with the lowest possible cost the next hypothesis explored whether working on the weekends was optimal for sales. Simply put did the average weekday sale equal the average weekend sale? To determine whether it was advantageous to employ people over the weekend the OrderDetail table was joined to the Employees table through the Order table. This allowed to regroup every revenue generated to a given day of the week. As luck would have it the employees were given off or at least did not sell any goods on Thursday which evenly split the week into 2 sets of 3 days. "
   ]
  },
  {
   "cell_type": "markdown",
   "metadata": {},
   "source": [
    "![](weekend.png)"
   ]
  },
  {
   "cell_type": "markdown",
   "metadata": {},
   "source": [
    "The overall number of transaction and total revenue of the week was approximately three times greater of the revenue raked in over the weekend. Due to this major difference in size the populations were randomly sampled and the average for 1000 iterations. These samples were then compared using a student t-test to evaluate whether the two samples displayed identical variation. Setting the grounds for accepting the p-value with a less than 5 percent chance that the outcome was a result of providence. A p-value was calculated to be tremendously smaller than the alpha value. Again with a p-value smaller than the alpha value the null hypothesis of equality between the weekdays and the weekend could safely be rejected and the alternative that the revenues were not equal could be assumed. \n",
    "\n"
   ]
  },
  {
   "cell_type": "markdown",
   "metadata": {},
   "source": [
    "![](weeked_revenues.png)"
   ]
  },
  {
   "cell_type": "markdown",
   "metadata": {},
   "source": [
    "The next area of interest was determining sales among countries and the variance between them. There was 175 entries in the SQL query joining the revenues of sales to the countries of origin through joining the OrderDetail table to the Customers table. Due to the large variety of number of sales as well as total revenues an average sale was implemented to keep countries on a level playing field. Individualized SQL queries per country were taken to allow for a simulation of 1000 future revenues that was based upon the average sampling of 50 events with replacement. France was chosen as the control for all other countries to be compared to for it possessed a median total revenue and average transaction rate. Of fourteen countries compared to the control only two were so different from the that the p-value was small enough to reject the null hypothesis of all countries being essentially equal to each other."
   ]
  },
  {
   "cell_type": "markdown",
   "metadata": {},
   "source": [
    "These four test have provided insights on how to further increase revenues for either future simulation through machine learning or implemented into direct practice by gently altering current models and further examining the results. While dissecting a business into discrete parts and investigating their relationships through hypothesis testing can be determined there are multiple layers that can affect the final outcome so care should be taken in a cautious approach."
   ]
  }
 ],
 "metadata": {
  "kernelspec": {
   "display_name": "learn-env",
   "language": "python",
   "name": "learn-env"
  },
  "language_info": {
   "codemirror_mode": {
    "name": "ipython",
    "version": 3
   },
   "file_extension": ".py",
   "mimetype": "text/x-python",
   "name": "python",
   "nbconvert_exporter": "python",
   "pygments_lexer": "ipython3",
   "version": "3.7.0"
  }
 },
 "nbformat": 4,
 "nbformat_minor": 2
}
